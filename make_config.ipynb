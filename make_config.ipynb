{
 "cells": [
  {
   "cell_type": "code",
   "execution_count": null,
   "id": "e2646f2b-d4f7-46b5-91a7-739760ec30b1",
   "metadata": {},
   "outputs": [],
   "source": [
    "from utils import *"
   ]
  },
  {
   "cell_type": "code",
   "execution_count": null,
   "id": "a683d4c1-4475-4da9-9c60-71c2e0c2b99f",
   "metadata": {},
   "outputs": [],
   "source": [
    "param_dict = {}\n",
    "param_dict['data_path'] = \"./data/coco2017/\"\n",
    "param_dict['num_workers'] = 0\n",
    "param_dict['batch_size'] = 4\n",
    "\n",
    "param_dict['backbone'] = 'resnet50fpn'\n",
    "param_dict['anchor_sizes'] = None\n",
    "param_dict['anchor_ratio'] = None\n",
    "param_dict['pooler_output_size'] = None\n",
    "param_dict['pooler_sampling_ratio'] = None\n",
    "\n",
    "param_dict['epochs'] = 20\n",
    "param_dict['model_save_path'] = './model_result/03_Aug_ResNet50FPN_Backbone/Augment_ResNet50FPN_model.pth'\n",
    "param_dict['save_per_epochs'] = None\n",
    "param_dict['monitor'] = 'loss'\n",
    "param_dict['multi_gpu_flag'] = False\n",
    "param_dict['port_num'] = 14000\n",
    "\n",
    "param_dict['lr'] = 0.001\n",
    "param_dict['weight_decay'] = 0.0005\n",
    "param_dict['momentum'] = 0.9"
   ]
  },
  {
   "cell_type": "code",
   "execution_count": null,
   "id": "49560ab4-a8a9-44fc-9185-16fbdc521ff0",
   "metadata": {},
   "outputs": [],
   "source": [
    "save_json('./config/03_Aug_ResNet50FPN_Backbone.json', param_dict)"
   ]
  }
 ],
 "metadata": {
  "kernelspec": {
   "display_name": "torch",
   "language": "python",
   "name": "torch"
  },
  "language_info": {
   "codemirror_mode": {
    "name": "ipython",
    "version": 3
   },
   "file_extension": ".py",
   "mimetype": "text/x-python",
   "name": "python",
   "nbconvert_exporter": "python",
   "pygments_lexer": "ipython3",
   "version": "3.9.18"
  }
 },
 "nbformat": 4,
 "nbformat_minor": 5
}
